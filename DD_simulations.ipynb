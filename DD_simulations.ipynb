{
 "cells": [
  {
   "cell_type": "code",
   "execution_count": 3,
   "metadata": {
    "ExecuteTime": {
     "end_time": "2022-04-05T21:19:46.422836Z",
     "start_time": "2022-04-05T21:19:46.391672Z"
    }
   },
   "outputs": [],
   "source": [
    "import numpy as np\n",
    "import pandas as pa \n",
    "from matplotlib import pyplot as plt \n",
    "%matplotlib inline\n",
    "from qutip import *\n",
    "import tqdm"
   ]
  },
  {
   "cell_type": "markdown",
   "metadata": {},
   "source": [
    "## Definitions"
   ]
  },
  {
   "cell_type": "markdown",
   "metadata": {},
   "source": [
    "###  Matrices\n"
   ]
  },
  {
   "cell_type": "code",
   "execution_count": 4,
   "metadata": {
    "ExecuteTime": {
     "end_time": "2022-04-05T21:19:48.584496Z",
     "start_time": "2022-04-05T21:19:48.278034Z"
    }
   },
   "outputs": [],
   "source": [
    "sz_e = (sigmaz()-qeye(2))*0.5 #S_z matrix for electron subdomain\n",
    "sz = tensor(sz_e, qeye(2)) # sz for 2x2 Hilbert space\n",
    "iz = tensor(qeye(2), sigmaz()*0.5) # iz for 2x2 space\n",
    "ix = tensor(qeye(2), sigmax()*0.5) # ix ---||-----\n",
    "pi_2_g_e_x = gates.rotation(op=sigmax(), phi=np.pi/2.0, N=2, target=0) # pi/2 rotation of electron around x\n",
    "pi_2_g_e_y = gates.rotation(op=sigmay(), phi=np.pi/2.0, N=2, target=0) # pi/2 rotation of electron around y\n",
    "pi_g_e_x = gates.rotation(op=sigmax(), phi=np.pi, N=2,target=0) #pi rotation of electron around x\n",
    "\n",
    "## Small angle rotations... Why??\n",
    "pi_g_e_x_alpha = gates.rotation(op=sigmax(), phi=np.pi*0.1, N=2,target=0) \n",
    "pi_g_e_mx_alpha = gates.rotation(op=sigmax(), phi=-np.pi*0.1, N=2,target=0)\n",
    "pi_g_e_y_alpha = gates.rotation(op=sigmay(), phi=np.pi*0.1, N=2,target=0)\n",
    "pi_g_e_my_alpha = gates.rotation(op=sigmay(), phi=-np.pi*0.1, N=2,target=0)"
   ]
  },
  {
   "cell_type": "markdown",
   "metadata": {},
   "source": [
    "### NV class"
   ]
  },
  {
   "cell_type": "code",
   "execution_count": null,
   "metadata": {
    "ExecuteTime": {
     "end_time": "2022-04-05T21:23:08.979515Z",
     "start_time": "2022-04-05T21:23:08.581062Z"
    },
    "code_folding": [
     1,
     7,
     17,
     31,
     43,
     53,
     65,
     78
    ]
   },
   "outputs": [],
   "source": [
    "class NV:\n",
    "    def __init__(self, c13_zz,c13_zx,B):\n",
    "        self.C13_zz = c13_zz\n",
    "        self.C13_zx = c13_zx\n",
    "        self.B = B\n",
    "        self.init_h()\n",
    "        \n",
    "    def init_h(self):\n",
    "        self.H = []\n",
    "        gamma_e = 2.8 #MHz/G\n",
    "        gamma_n = 10.7*1e-4 # MHz/G\n",
    "        for i,zz in enumerate(self.C13_zz):\n",
    "            self.H.append(\n",
    "                iz*gamma_n*B*2*np.pi + 2*np.pi*sz*iz*zz +\n",
    "                2*np.pi*sz*ix*self.C13_zx[i]\n",
    "            )        \n",
    "                \n",
    "    def evolve_i(self, rho, seq, i):        \n",
    "        rho1 = rho\n",
    "        for s in seq:\n",
    "            if isinstance(s, Qobj):\n",
    "                rho1 = s*rho1*s.dag()\n",
    "            elif isinstance(s, float):\n",
    "                U = (self.H[i]*1j*s).expm()\n",
    "                rho1 = U*rho1*U.dag()\n",
    "            elif isinstance(s, dict):\n",
    "                out = mesolve(rho0=rho1, H=self.H, c_ops=[tensor(sigmaz(),qeye(2))], tlist=np.linspace(0,s['T_c'], 10), \n",
    "                          options = Options(nsteps=1e5))\n",
    "                return out.states[-1]                \n",
    "        return rho1\n",
    "    \n",
    "    def experiment(self, seq, **kwargs):\n",
    "        \n",
    "        Pi = 1\n",
    "        rho = tensor(fock_dm(2,0), qeye(2)*0.5)\n",
    "        for i,zz in enumerate(self.C13_zz):\n",
    "            \n",
    "            rho1 = self.evolve_i(rho, seq(**kwargs),i)\n",
    "            p0 = expect(sigmaz(), rho1.ptrace(0))\n",
    "            Pi *= p0\n",
    "        \n",
    "        return Pi\n",
    "\n",
    "    def hahn_echo(self,tau):\n",
    "        seq = [\n",
    "        pi_2_g_e_y, \n",
    "            tau, \n",
    "            pi_g_e_x,\n",
    "            tau,\n",
    "           pi_2_g_e_y.dag()\n",
    "          ]\n",
    "        return seq\n",
    "        \n",
    "    def xy4(self, tau):\n",
    "        seq = [\n",
    "        pi_2_g_e_y, \n",
    "            tau]\n",
    "        \n",
    "        for i in range(4):\n",
    "            seq += [pi_g_e_x, tau]\n",
    "                        \n",
    "        \n",
    "        seq += [pi_2_g_e_y.dag()]\n",
    "        return seq\n",
    "    \n",
    "    def xy16(self, tau):\n",
    "        seq = [\n",
    "        pi_2_g_e_y, \n",
    "            tau]\n",
    "        \n",
    "        for i in range(8):\n",
    "            seq += [pi_g_e_x, tau]\n",
    "            seq += [pi_g_e_x, tau]\n",
    "                        \n",
    "        \n",
    "        seq += [pi_2_g_e_y.dag()]\n",
    "        return seq\n",
    "    \n",
    "    def xy_mxy16(self, tau):\n",
    "        seq = [\n",
    "        pi_2_g_e_y, \n",
    "            tau]\n",
    "        \n",
    "        for i in range(8):\n",
    "            seq += [pi_g_e_x_alpha, tau]\n",
    "            #seq += [pi_g_e_mx_alpha, tau]\n",
    "            seq += [pi_g_e_y_alpha, tau]\n",
    "            #seq += [pi_g_e_my_alpha, tau]\n",
    "                        \n",
    "        \n",
    "        seq += [pi_2_g_e_y.dag()]\n",
    "        return seq\n",
    "         "
   ]
  },
  {
   "cell_type": "markdown",
   "metadata": {},
   "source": [
    "### Random positioning of the carbons "
   ]
  },
  {
   "cell_type": "code",
   "execution_count": 30,
   "metadata": {
    "ExecuteTime": {
     "end_time": "2022-04-05T21:33:14.347563Z",
     "start_time": "2022-04-05T21:33:14.334329Z"
    }
   },
   "outputs": [
    {
     "data": {
      "text/plain": [
       "array([[ 30.6726596 , -11.40013108,   8.81984058],\n",
       "       [ 48.32006081,  27.03073141,   1.86801923],\n",
       "       [ 33.36738977, -30.30142285, -17.08305008],\n",
       "       [-18.46205759, -35.63904031,  36.88181333],\n",
       "       [-44.38640145,  21.6454779 ,  31.99063789],\n",
       "       [ 41.33880944, -13.54351276, -11.42737997],\n",
       "       [-22.66712998,  28.91263389, -36.42494358],\n",
       "       [-34.79011526,  21.57590833,  31.37822345],\n",
       "       [-45.1513848 , -27.97969218,  -5.78362785],\n",
       "       [ 45.79143081,  27.29447892,  48.96561053]])"
      ]
     },
     "execution_count": 30,
     "metadata": {},
     "output_type": "execute_result"
    }
   ],
   "source": [
    "def generate_random_xyz(r=50, N = 10):\n",
    "    x = np.random.uniform(-r,r,N)\n",
    "    y = np.random.uniform(-r,r,N)\n",
    "    z = np.random.uniform(-r,r,N)\n",
    "    return np.array([x,y,z]).T\n",
    "generate_random_xyz()"
   ]
  },
  {
   "cell_type": "markdown",
   "metadata": {},
   "source": [
    "## Single test run "
   ]
  },
  {
   "cell_type": "markdown",
   "metadata": {},
   "source": [
    "### Generate a bath "
   ]
  },
  {
   "cell_type": "code",
   "execution_count": 63,
   "metadata": {
    "ExecuteTime": {
     "end_time": "2022-04-05T21:36:11.658426Z",
     "start_time": "2022-04-05T21:36:11.393776Z"
    },
    "code_folding": [
     0,
     1,
     7,
     17,
     33,
     44,
     96
    ]
   },
   "outputs": [
    {
     "name": "stdout",
     "output_type": "stream",
     "text": [
      "56.388888888888886\n"
     ]
    },
    {
     "data": {
      "text/plain": [
       "(array([[0., 1., 0., 0., 0., 0., 0., 0., 2., 7.],\n",
       "        [1., 0., 0., 0., 0., 0., 0., 0., 0., 9.]]),\n",
       " array([-0.6755877 , -0.60259581, -0.52960392, -0.45661203, -0.38362015,\n",
       "        -0.31062826, -0.23763637, -0.16464448, -0.0916526 , -0.01866071,\n",
       "         0.05433118]),\n",
       " <a list of 2 BarContainer objects>)"
      ]
     },
     "execution_count": 63,
     "metadata": {},
     "output_type": "execute_result"
    },
    {
     "data": {
      "image/png": "[encoded data removed]",
      "text/plain": [
       "<Figure size 432x288 with 1 Axes>"
      ]
     },
     "metadata": {
      "needs_background": "light"
     },
     "output_type": "display_data"
    }
   ],
   "source": [
    "\n",
    "norm = lambda x: np.sqrt(np.sum(x*x))\n",
    "factor_par  = lambda r, theta: (np.power(r, -3.0))*(3.0*np.power(np.cos(theta), 2.0)-1) # lambda eq for calculating parallel hyperfine coef\n",
    "factor_perp = lambda r, theta: (np.power(r, -3.0))*(3.0*np.cos(theta)*np.sin(theta))    #                           perpendicular hyperfine coef\n",
    "\n",
    "AparC_data   = []\n",
    "AperpC_data  = []\n",
    "dd13C = -19.885 #MHz/A^3\n",
    "\n",
    "xyzC  = generate_random_xyz(r=15, N = 10)# Ängstrom\n",
    "\n",
    "### calculate hyperfine coupling strength\n",
    "                        # angle between z and vector from VSi to atom\n",
    "rC = np.array([np.sqrt(np.sum(p*p)) for p in xyzC])    # the same as above for C\n",
    "zzC = np.array([p[2] for p in xyzC])\n",
    "thetaC = np.arccos(zzC/rC)\n",
    "\n",
    "# calculation of the hyperfine coupling strength\n",
    "AparC_data   = dd13C *factor_par (rC , thetaC )\n",
    "AperpC_data  = dd13C *factor_perp(rC , thetaC )\n",
    "\n",
    "\n",
    "C13_zz = np.array(AparC_data)\n",
    "C13_zx = np.array(AperpC_data)\n",
    "B = 60.9e-3 / 10.8 *1e4; print(B)\n",
    "mynv = NV(B=B, c13_zx=C13_zz, c13_zz=C13_zx)\n",
    "plt.hist([C13_zz, C13_zx])"
   ]
  },
  {
   "cell_type": "markdown",
   "metadata": {},
   "source": [
    "### DD run"
   ]
  },
  {
   "cell_type": "code",
   "execution_count": 64,
   "metadata": {
    "ExecuteTime": {
     "end_time": "2022-04-05T21:36:41.547873Z",
     "start_time": "2022-04-05T21:36:25.481000Z"
    }
   },
   "outputs": [
    {
     "name": "stderr",
     "output_type": "stream",
     "text": [
      "/Users/vvv/opt/miniconda3/envs/qutip-env/lib/python3.7/site-packages/ipykernel_launcher.py:5: TqdmDeprecationWarning: This function will be removed in tqdm==5.0.0\n",
      "Please use `tqdm.notebook.tqdm` instead of `tqdm.tqdm_notebook`\n",
      "  \"\"\"\n"
     ]
    },
    {
     "data": {
      "application/vnd.jupyter.widget-view+json": {
       "model_id": "2f601c70fd1a405b986ed06cc9d72b50",
       "version_major": 2,
       "version_minor": 0
      },
      "text/plain": [
       "HBox(children=(FloatProgress(value=0.0), HTML(value='')))"
      ]
     },
     "metadata": {},
     "output_type": "display_data"
    },
    {
     "name": "stdout",
     "output_type": "stream",
     "text": [
      "\n"
     ]
    }
   ],
   "source": [
    "Pxy4 = []\n",
    "Phe = []\n",
    "Pxy16 = []\n",
    "taus = np.linspace(0,50,100)\n",
    "for tau in tqdm.tqdm_notebook(taus):\n",
    "    Pxy4.append(mynv.experiment(seq=mynv.xy4,tau=tau))\n",
    "    Pxy16.append(mynv.experiment(seq=mynv.xy16,tau=tau))\n",
    "    Phe.append(mynv.experiment(seq=mynv.hahn_echo,tau=tau))  "
   ]
  },
  {
   "cell_type": "code",
   "execution_count": 66,
   "metadata": {
    "ExecuteTime": {
     "end_time": "2022-04-05T21:36:49.759410Z",
     "start_time": "2022-04-05T21:36:49.386455Z"
    }
   },
   "outputs": [
    {
     "data": {
      "image/png": "[encoded data removed]",
      "text/plain": [
       "<Figure size 900x600 with 1 Axes>"
      ]
     },
     "metadata": {
      "needs_background": "light"
     },
     "output_type": "display_data"
    }
   ],
   "source": [
    "plt.figure(dpi=150)\n",
    "#T2 = 100\n",
    "plt.plot(taus, np.array(Pxy4), label = 'xy4')\n",
    "plt.plot(taus, np.array(Pxy16), label = 'xy16')\n",
    "plt.plot(taus, np.array(Phe), label = 'HE')\n",
    "plt.xlabel('Total_tau, us')\n",
    "plt.legend()\n",
    "plt.savefig('he_xy4_xy16.png')"
   ]
  },
  {
   "cell_type": "code",
   "execution_count": 73,
   "metadata": {
    "ExecuteTime": {
     "end_time": "2022-04-05T21:43:00.076805Z",
     "start_time": "2022-04-05T21:43:00.067255Z"
    }
   },
   "outputs": [],
   "source": [
    "#np.savetxt(X = [taus,Phe,Pxy4], fname ='training/out0.txt')\n",
    "#np.savetxt(X = [C13_zz, C13_zx], fname ='training/in0.txt')"
   ]
  },
  {
   "cell_type": "markdown",
   "metadata": {},
   "source": [
    "## Generate a dataset for training "
   ]
  },
  {
   "cell_type": "code",
   "execution_count": 75,
   "metadata": {
    "ExecuteTime": {
     "end_time": "2022-04-06T06:37:25.296927Z",
     "start_time": "2022-04-05T21:45:49.712189Z"
    }
   },
   "outputs": [
    {
     "name": "stderr",
     "output_type": "stream",
     "text": [
      "/Users/vvv/opt/miniconda3/envs/qutip-env/lib/python3.7/site-packages/ipykernel_launcher.py:1: TqdmDeprecationWarning: This function will be removed in tqdm==5.0.0\n",
      "Please use `tqdm.notebook.tqdm` instead of `tqdm.tqdm_notebook`\n",
      "  \"\"\"Entry point for launching an IPython kernel.\n"
     ]
    },
    {
     "data": {
      "application/vnd.jupyter.widget-view+json": {
       "model_id": "bc28ceab2ba1462298342075a7de8232",
       "version_major": 2,
       "version_minor": 0
      },
      "text/plain": [
       "HBox(children=(FloatProgress(value=0.0, max=3000.0), HTML(value='')))"
      ]
     },
     "metadata": {},
     "output_type": "display_data"
    },
    {
     "ename": "KeyboardInterrupt",
     "evalue": "",
     "output_type": "error",
     "traceback": [
      "\u001b[0;31m---------------------------------------------------------------------------\u001b[0m",
      "\u001b[0;31mKeyboardInterrupt\u001b[0m                         Traceback (most recent call last)",
      "\u001b[0;32m<ipython-input-75-b1efa4522598>\u001b[0m in \u001b[0;36m<module>\u001b[0;34m\u001b[0m\n\u001b[1;32m     24\u001b[0m     \u001b[0mtaus\u001b[0m \u001b[0;34m=\u001b[0m \u001b[0mnp\u001b[0m\u001b[0;34m.\u001b[0m\u001b[0mlinspace\u001b[0m\u001b[0;34m(\u001b[0m\u001b[0;36m0\u001b[0m\u001b[0;34m,\u001b[0m\u001b[0;36m50\u001b[0m\u001b[0;34m,\u001b[0m\u001b[0;36m100\u001b[0m\u001b[0;34m)\u001b[0m\u001b[0;34m\u001b[0m\u001b[0;34m\u001b[0m\u001b[0m\n\u001b[1;32m     25\u001b[0m     \u001b[0;32mfor\u001b[0m \u001b[0mtau\u001b[0m \u001b[0;32min\u001b[0m \u001b[0mtaus\u001b[0m\u001b[0;34m:\u001b[0m\u001b[0;34m\u001b[0m\u001b[0;34m\u001b[0m\u001b[0m\n\u001b[0;32m---> 26\u001b[0;31m         \u001b[0mPxy4\u001b[0m\u001b[0;34m.\u001b[0m\u001b[0mappend\u001b[0m\u001b[0;34m(\u001b[0m\u001b[0mmynv\u001b[0m\u001b[0;34m.\u001b[0m\u001b[0mexperiment\u001b[0m\u001b[0;34m(\u001b[0m\u001b[0mseq\u001b[0m\u001b[0;34m=\u001b[0m\u001b[0mmynv\u001b[0m\u001b[0;34m.\u001b[0m\u001b[0mxy4\u001b[0m\u001b[0;34m,\u001b[0m\u001b[0mtau\u001b[0m\u001b[0;34m=\u001b[0m\u001b[0mtau\u001b[0m\u001b[0;34m)\u001b[0m\u001b[0;34m)\u001b[0m\u001b[0;34m\u001b[0m\u001b[0;34m\u001b[0m\u001b[0m\n\u001b[0m\u001b[1;32m     27\u001b[0m         \u001b[0;31m#Pxy16.append(mynv.experiment(seq=mynv.xy16,tau=tau))\u001b[0m\u001b[0;34m\u001b[0m\u001b[0;34m\u001b[0m\u001b[0;34m\u001b[0m\u001b[0m\n\u001b[1;32m     28\u001b[0m         \u001b[0mPhe\u001b[0m\u001b[0;34m.\u001b[0m\u001b[0mappend\u001b[0m\u001b[0;34m(\u001b[0m\u001b[0mmynv\u001b[0m\u001b[0;34m.\u001b[0m\u001b[0mexperiment\u001b[0m\u001b[0;34m(\u001b[0m\u001b[0mseq\u001b[0m\u001b[0;34m=\u001b[0m\u001b[0mmynv\u001b[0m\u001b[0;34m.\u001b[0m\u001b[0mhahn_echo\u001b[0m\u001b[0;34m,\u001b[0m\u001b[0mtau\u001b[0m\u001b[0;34m=\u001b[0m\u001b[0mtau\u001b[0m\u001b[0;34m)\u001b[0m\u001b[0;34m)\u001b[0m\u001b[0;34m\u001b[0m\u001b[0;34m\u001b[0m\u001b[0m\n",
      "\u001b[0;32m<ipython-input-9-00e1b3eed6bc>\u001b[0m in \u001b[0;36mexperiment\u001b[0;34m(self, seq, **kwargs)\u001b[0m\n\u001b[1;32m     39\u001b[0m \u001b[0;34m\u001b[0m\u001b[0m\n\u001b[1;32m     40\u001b[0m             \u001b[0mrho1\u001b[0m \u001b[0;34m=\u001b[0m \u001b[0mself\u001b[0m\u001b[0;34m.\u001b[0m\u001b[0mevolve_i\u001b[0m\u001b[0;34m(\u001b[0m\u001b[0mrho\u001b[0m\u001b[0;34m,\u001b[0m \u001b[0mseq\u001b[0m\u001b[0;34m(\u001b[0m\u001b[0;34m**\u001b[0m\u001b[0mkwargs\u001b[0m\u001b[0;34m)\u001b[0m\u001b[0;34m,\u001b[0m\u001b[0mi\u001b[0m\u001b[0;34m)\u001b[0m\u001b[0;34m\u001b[0m\u001b[0;34m\u001b[0m\u001b[0m\n\u001b[0;32m---> 41\u001b[0;31m             \u001b[0mp0\u001b[0m \u001b[0;34m=\u001b[0m \u001b[0mexpect\u001b[0m\u001b[0;34m(\u001b[0m\u001b[0msigmaz\u001b[0m\u001b[0;34m(\u001b[0m\u001b[0;34m)\u001b[0m\u001b[0;34m,\u001b[0m \u001b[0mrho1\u001b[0m\u001b[0;34m.\u001b[0m\u001b[0mptrace\u001b[0m\u001b[0;34m(\u001b[0m\u001b[0;36m0\u001b[0m\u001b[0;34m)\u001b[0m\u001b[0;34m)\u001b[0m\u001b[0;34m\u001b[0m\u001b[0;34m\u001b[0m\u001b[0m\n\u001b[0m\u001b[1;32m     42\u001b[0m             \u001b[0mPi\u001b[0m \u001b[0;34m*=\u001b[0m \u001b[0mp0\u001b[0m\u001b[0;34m\u001b[0m\u001b[0;34m\u001b[0m\u001b[0m\n\u001b[1;32m     43\u001b[0m \u001b[0;34m\u001b[0m\u001b[0m\n",
      "\u001b[0;32m~/opt/miniconda3/envs/qutip-env/lib/python3.7/site-packages/qutip/operators.py\u001b[0m in \u001b[0;36msigmaz\u001b[0;34m()\u001b[0m\n\u001b[1;32m    339\u001b[0m \u001b[0;34m\u001b[0m\u001b[0m\n\u001b[1;32m    340\u001b[0m     \"\"\"\n\u001b[0;32m--> 341\u001b[0;31m     \u001b[0;32mreturn\u001b[0m \u001b[0;36m2.0\u001b[0m \u001b[0;34m*\u001b[0m \u001b[0mjmat\u001b[0m\u001b[0;34m(\u001b[0m\u001b[0;36m1.0\u001b[0m \u001b[0;34m/\u001b[0m \u001b[0;36m2\u001b[0m\u001b[0;34m,\u001b[0m \u001b[0;34m'z'\u001b[0m\u001b[0;34m)\u001b[0m\u001b[0;34m\u001b[0m\u001b[0;34m\u001b[0m\u001b[0m\n\u001b[0m\u001b[1;32m    342\u001b[0m \u001b[0;34m\u001b[0m\u001b[0m\n\u001b[1;32m    343\u001b[0m \u001b[0;34m\u001b[0m\u001b[0m\n",
      "\u001b[0;32m~/opt/miniconda3/envs/qutip-env/lib/python3.7/site-packages/qutip/operators.py\u001b[0m in \u001b[0;36mjmat\u001b[0;34m(j, *args)\u001b[0m\n\u001b[1;32m     98\u001b[0m \u001b[0;34m\u001b[0m\u001b[0m\n\u001b[1;32m     99\u001b[0m     \"\"\"\n\u001b[0;32m--> 100\u001b[0;31m     \u001b[0;32mif\u001b[0m \u001b[0;34m(\u001b[0m\u001b[0mscipy\u001b[0m\u001b[0;34m.\u001b[0m\u001b[0mfix\u001b[0m\u001b[0;34m(\u001b[0m\u001b[0;36m2\u001b[0m \u001b[0;34m*\u001b[0m \u001b[0mj\u001b[0m\u001b[0;34m)\u001b[0m \u001b[0;34m!=\u001b[0m \u001b[0;36m2\u001b[0m \u001b[0;34m*\u001b[0m \u001b[0mj\u001b[0m\u001b[0;34m)\u001b[0m \u001b[0;32mor\u001b[0m \u001b[0;34m(\u001b[0m\u001b[0mj\u001b[0m \u001b[0;34m<\u001b[0m \u001b[0;36m0\u001b[0m\u001b[0;34m)\u001b[0m\u001b[0;34m:\u001b[0m\u001b[0;34m\u001b[0m\u001b[0;34m\u001b[0m\u001b[0m\n\u001b[0m\u001b[1;32m    101\u001b[0m         \u001b[0;32mraise\u001b[0m \u001b[0mTypeError\u001b[0m\u001b[0;34m(\u001b[0m\u001b[0;34m'j must be a non-negative integer or half-integer'\u001b[0m\u001b[0;34m)\u001b[0m\u001b[0;34m\u001b[0m\u001b[0;34m\u001b[0m\u001b[0m\n\u001b[1;32m    102\u001b[0m \u001b[0;34m\u001b[0m\u001b[0m\n",
      "\u001b[0;32m~/opt/miniconda3/envs/qutip-env/lib/python3.7/site-packages/scipy/_lib/deprecation.py\u001b[0m in \u001b[0;36mcall\u001b[0;34m(*args, **kwargs)\u001b[0m\n\u001b[1;32m     17\u001b[0m         \u001b[0;32mdef\u001b[0m \u001b[0mcall\u001b[0m\u001b[0;34m(\u001b[0m\u001b[0;34m*\u001b[0m\u001b[0margs\u001b[0m\u001b[0;34m,\u001b[0m \u001b[0;34m**\u001b[0m\u001b[0mkwargs\u001b[0m\u001b[0;34m)\u001b[0m\u001b[0;34m:\u001b[0m\u001b[0;34m\u001b[0m\u001b[0;34m\u001b[0m\u001b[0m\n\u001b[1;32m     18\u001b[0m             warnings.warn(msg, category=DeprecationWarning,\n\u001b[0;32m---> 19\u001b[0;31m                           stacklevel=stacklevel)\n\u001b[0m\u001b[1;32m     20\u001b[0m             \u001b[0;32mreturn\u001b[0m \u001b[0mfun\u001b[0m\u001b[0;34m(\u001b[0m\u001b[0;34m*\u001b[0m\u001b[0margs\u001b[0m\u001b[0;34m,\u001b[0m \u001b[0;34m**\u001b[0m\u001b[0mkwargs\u001b[0m\u001b[0;34m)\u001b[0m\u001b[0;34m\u001b[0m\u001b[0;34m\u001b[0m\u001b[0m\n\u001b[1;32m     21\u001b[0m         \u001b[0mcall\u001b[0m\u001b[0;34m.\u001b[0m\u001b[0m__doc__\u001b[0m \u001b[0;34m=\u001b[0m \u001b[0mmsg\u001b[0m\u001b[0;34m\u001b[0m\u001b[0;34m\u001b[0m\u001b[0m\n",
      "\u001b[0;31mKeyboardInterrupt\u001b[0m: "
     ]
    }
   ],
   "source": [
    "for i in tqdm.tqdm_notebook(range(3000)):\n",
    "    xyzC  = generate_random_xyz(r=15, N = 10)# Ängstrom\n",
    "\n",
    "    ### calculate hyperfine coupling strength\n",
    "                            # angle between z and vector from VSi to atom\n",
    "    rC = np.array([np.sqrt(np.sum(p*p)) for p in xyzC])    # the same as above for C\n",
    "    zzC = np.array([p[2] for p in xyzC])\n",
    "    thetaC = np.arccos(zzC/rC)\n",
    "\n",
    "    # calculation of the hyperfine coupling strength\n",
    "    AparC_data   = dd13C *factor_par (rC , thetaC )\n",
    "    AperpC_data  = dd13C *factor_perp(rC , thetaC )\n",
    "\n",
    "\n",
    "    C13_zz = np.array(AparC_data)\n",
    "    C13_zx = np.array(AperpC_data)\n",
    "    B = 60.9e-3 / 10.8 *1e4;\n",
    "    mynv = NV(B=B, c13_zx=C13_zz, c13_zz=C13_zx)\n",
    "    \n",
    "    \n",
    "    Pxy4 = []\n",
    "    Phe = []\n",
    "    Pxy16 = []\n",
    "    taus = np.linspace(0,50,100)\n",
    "    for tau in taus:\n",
    "        Pxy4.append(mynv.experiment(seq=mynv.xy4,tau=tau))\n",
    "        #Pxy16.append(mynv.experiment(seq=mynv.xy16,tau=tau))\n",
    "        Phe.append(mynv.experiment(seq=mynv.hahn_echo,tau=tau)) \n",
    "    np.savetxt(X = [taus,Phe,Pxy4], fname ='training/out'+str(i) +'.txt')\n",
    "    np.savetxt(X = [C13_zz, C13_zx], fname ='training/in'+str(i) + '.txt')"
   ]
  },
  {
   "cell_type": "code",
   "execution_count": null,
   "metadata": {},
   "outputs": [],
   "source": []
  },
  {
   "cell_type": "code",
   "execution_count": null,
   "metadata": {},
   "outputs": [],
   "source": []
  }
 ],
 "metadata": {
  "celltoolbar": "Raw Cell Format",
  "kernelspec": {
   "display_name": "Python 3",
   "language": "python",
   "name": "python3"
  },
  "language_info": {
   "codemirror_mode": {
    "name": "ipython",
    "version": 3
   },
   "file_extension": ".py",
   "mimetype": "text/x-python",
   "name": "python",
   "nbconvert_exporter": "python",
   "pygments_lexer": "ipython3",
   "version": "3.7.10"
  },
  "toc": {
   "base_numbering": 1,
   "nav_menu": {},
   "number_sections": true,
   "sideBar": true,
   "skip_h1_title": false,
   "title_cell": "Table of Contents",
   "title_sidebar": "Contents",
   "toc_cell": false,
   "toc_position": {
    "height": "calc(100% - 180px)",
    "left": "10px",
    "top": "150px",
    "width": "284px"
   },
   "toc_section_display": true,
   "toc_window_display": true
  },
  "varInspector": {
   "cols": {
    "lenName": 16,
    "lenType": 16,
    "lenVar": 40
   },
   "kernels_config": {
    "python": {
     "delete_cmd_postfix": "",
     "delete_cmd_prefix": "del ",
     "library": "var_list.py",
     "varRefreshCmd": "print(var_dic_list())"
    },
    "r": {
     "delete_cmd_postfix": ") ",
     "delete_cmd_prefix": "rm(",
     "library": "var_list.r",
     "varRefreshCmd": "cat(var_dic_list()) "
    }
   },
   "types_to_exclude": [
    "module",
    "function",
    "builtin_function_or_method",
    "instance",
    "_Feature"
   ],
   "window_display": false
  }
 },
 "nbformat": 4,
 "nbformat_minor": 2
}
